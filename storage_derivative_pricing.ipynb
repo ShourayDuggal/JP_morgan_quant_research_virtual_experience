{
 "cells": [
  {
   "cell_type": "markdown",
   "metadata": {},
   "source": [
    "# Background\n",
    "\n",
    "Great work! The desk now has the price data they need. The final ingredient before they can begin trading with the client is the pricing model. Alex tells you the client wants to start trading as soon as possible. They believe the winter will be colder than expected, so they want to buy gas now to store and sell in winter in order to take advantage of the resulting increase in gas prices. They ask you to write a script that they can use to price the contract. Once the desk are happy, you will work with engineering, risk, and model validation to incorporate this model into production code.\n",
    "\n",
    "The concept is simple: any trade agreement is as valuable as the price you can sell minus the price at which you are able to buy. Any cost incurred as part of executing this agreement is also deducted from the overall value. \n",
    "\n",
    "So, for example, if I can purchase a million MMBtu of natural gas in summer at $2/MMBtu, store this for four months, and ensure that I can sell the same quantity at $3/MMBtu without incurring any additional costs, the value of this contract would be ($3-$2) *1e6 = $1million. If there are costs involved, such as having to pay the storage facility owner a fixed fee of $100K a month, then the 'value' of the contract, from my perspective, would drop by the overall rental amount to $600K. Another cost could be the injection/withdrawal cost, like having to pay the storage facility owner $10K per 1 million MMBtu for injection/withdrawal, then the price will further go down by $10K to $590K. Additionally, if I am supposed to foot a bill of $50K each time for transporting the gas to and from the facility, the cost of this contract would fall by another $100K. Think of the valuation as a fair estimate at which both the trading desk and the client would be happy to enter into the contract.\n",
    "\n",
    "\n"
   ]
  },
  {
   "cell_type": "markdown",
   "metadata": {},
   "source": [
    "# Task 2\n",
    "\n",
    "You need to create a prototype pricing model that can go through further validation and testing before being put into production. Eventually, this model may be the basis for fully automated quoting to clients, but for now, the desk will use it with manual oversight to explore options with the client. \n",
    "\n",
    "You should write a function that is able to use the data you created previously to price the contract. ***The client may want to choose multiple dates to inject and withdraw a set amount of gas***, so your approach should generalize the explanation from before. Consider all the cash flows involved in the product.\n",
    "\n",
    "The input parameters that should be taken into account for pricing are:\n",
    "\n",
    "- Injection dates : date X amount of gas bought at $p \n",
    "- Withdrawal dates : date y amount of gas sold at $k\n",
    "- The prices at which the commodity can be purchased/sold on those dates.\n",
    "- The rate at which the gas can be injected/withdrawn.\n",
    "- The maximum volume that can be stored.\n",
    "- Storage costs.\n",
    "\n",
    "\n",
    "Write a function that takes these inputs and gives back the value of the contract. You can assume there is no transport delay and that interest rates are zero. Market holidays, weekends, and bank holidays need not be accounted for. Test your code by selecting a few sample inputs."
   ]
  },
  {
   "cell_type": "code",
   "execution_count": 1,
   "metadata": {},
   "outputs": [],
   "source": [
    "# Importing modules\n",
    "\n",
    "import pandas as pd\n",
    "import numpy as np\n",
    "\n",
    "## visualization \n",
    "import matplotlib.pyplot as plt\n",
    "import seaborn as sns\n",
    "\n",
    "import warnings\n",
    "warnings.simplefilter(action='ignore') ## ignoring warning\n"
   ]
  },
  {
   "cell_type": "code",
   "execution_count": 29,
   "metadata": {},
   "outputs": [],
   "source": [
    "## let's work with volumes\n",
    "def get_contract_value_dates(injection_dates : list[str], withdrawl_dates: list[str], max_volume: float, injection_withdrawl_vol:float):\n",
    "    injection_ = pd.DataFrame({'dates': pd.to_datetime(injection_dates), 'action': [injection_withdrawl_vol]*len(injection_dates) })\n",
    "    withdrawl_ = pd.DataFrame({'dates': pd.to_datetime(withdrawl_dates), 'action': [-injection_withdrawl_vol]*len(withdrawl_dates)})\n",
    "    gas_transactions = pd.concat([injection_, withdrawl_]).sort_values('dates')\n",
    "    gas_transactions['current_vol_gas'] = np.cumsum(gas_transactions.action)\n",
    "    \n",
    "    ## current gas cannot be greater than max and cannot be negative!\n",
    "    neg_gas = gas_transactions[gas_transactions.current_vol_gas < 0].index.values.tolist()\n",
    "    excess_gas = gas_transactions[gas_transactions.current_vol_gas > max_volume].index.values.tolist()\n",
    "    stop_list = neg_gas + excess_gas\n",
    "    stop_list.sort()\n",
    "    return stop_list\n",
    "def get_contract_value(injection_dates : list[str], injection_prices: list[float], withdrawl_dates: list[str], withdrawl_prices: list[float], max_volume: float,injection_withdrawl_cost:float, injection_withdrawl_vol:float, storage_cost_variable_pm:float = 0, storage_cost_fixed_pm :float = 0)->dict:\n",
    "    ''' \n",
    "        injection_dates : list[str], ascending dates only!\n",
    "        injection_prices: list[float], \n",
    "        withdrawl_dates: list[str], ascending dates only!!\n",
    "        withdrawl_prices: list[float],\n",
    "        max_volume: float \n",
    "        injection_withdrawl_cost:float, \n",
    "        injection_withdrawl_vol:float,\n",
    "        storage_cost_pm:float\n",
    "\n",
    "        Note: everything is per MMBtu\n",
    "\n",
    "        ASSUMPTIONS: at each injection date x MMBtu are injected and on each withdrawl x is withdrawed.\n",
    "                     Months are calculated as continous periods of 30 days. If stored for 45 days, the storage cost would be 1.5 times the monthly cost\n",
    "                     That is storage costs are incurred as per consumption\n",
    "        \n",
    "    '''\n",
    "    assert(len(injection_dates) == len(injection_prices))\n",
    "    assert(len(withdrawl_dates) == len(withdrawl_prices))\n",
    "\n",
    "    if(len(withdrawl_dates) - len(injection_dates) != 0):\n",
    "        if(len(withdrawl_dates) - len(injection_dates) < 0):\n",
    "            print('')\n",
    "            raise Exception(\"more injection than withdrawl\")\n",
    "        if(len(withdrawl_dates) - len(injection_dates) > 0):\n",
    "            raise Exception(\"more withdrawl than injection\")\n",
    "    \n",
    "    ## checking if excess vol is injected or withdrawn\n",
    "    if len(get_contract_value_dates(injection_dates = injection_dates, withdrawl_dates= withdrawl_dates, max_volume= max_volume, injection_withdrawl_vol= injection_withdrawl_vol)) != 0:\n",
    "       raise Exception(\"volume limits breached mid contract\")\n",
    "\n",
    "        \n",
    "    \n",
    "    expected_sale_cf = injection_withdrawl_vol*(np.array(withdrawl_prices) - np.array(injection_prices))\n",
    "    \n",
    "    ## calculate months (30 day periods between insertion and extraction)\n",
    "    months =  np.around((pd.to_datetime(withdrawl_dates) - pd.to_datetime(injection_dates)).days / 30, decimals=0)\n",
    "    \n",
    "    # calculate expected_injection_withdrawl_costs\n",
    "    expected_injection_withdrawl_costs = injection_withdrawl_vol*injection_withdrawl_cost\n",
    "\n",
    "    # calculate_expected_storage_costs\n",
    "\n",
    "    expected_storage_costs = months* (injection_withdrawl_vol * storage_cost_variable_pm)\n",
    "\n",
    "    value = np.sum( expected_sale_cf - expected_injection_withdrawl_costs - expected_storage_costs) - storage_cost_fixed_pm* np.around((pd.to_datetime(withdrawl_dates).max() - pd.to_datetime(injection_dates).min()).days / 30)\n",
    "\n",
    "    results_dict = {'value' : value,'expected_sale_cf': expected_sale_cf, 'months':months,\n",
    "                     'expected_injection_withdrawl_costs':  expected_injection_withdrawl_costs, 'expected_storage_costs': expected_storage_costs}\n",
    "    \n",
    "    return results_dict\n",
    "\n",
    "    "
   ]
  },
  {
   "cell_type": "code",
   "execution_count": 30,
   "metadata": {},
   "outputs": [
    {
     "data": {
      "text/plain": [
       "{'value': 2580000.0,\n",
       " 'expected_sale_cf': array([1000000, 2000000]),\n",
       " 'months': Index([0.0, 3.0], dtype='float64'),\n",
       " 'expected_injection_withdrawl_costs': 10000.0,\n",
       " 'expected_storage_costs': Index([0.0, 0.0], dtype='float64')}"
      ]
     },
     "execution_count": 30,
     "metadata": {},
     "output_type": "execute_result"
    }
   ],
   "source": [
    "get_contract_value(injection_dates = ['19/06/2023', '19/07/2023'], injection_prices=[2, 3], withdrawl_dates= ['19/06/2023','19/10/2023'], withdrawl_prices= [3,5], max_volume= 500000000,injection_withdrawl_cost = 0.01, injection_withdrawl_vol= 1000000, storage_cost_variable_pm = 0, storage_cost_fixed_pm = 100000)"
   ]
  },
  {
   "cell_type": "markdown",
   "metadata": {},
   "source": [
    "## testing"
   ]
  },
  {
   "cell_type": "code",
   "execution_count": 19,
   "metadata": {},
   "outputs": [
    {
     "data": {
      "text/plain": [
       "2170000.0"
      ]
     },
     "execution_count": 19,
     "metadata": {},
     "output_type": "execute_result"
    }
   ],
   "source": [
    "# case 1: no variable storage costs, only fixed per month storage costs.\n",
    "injection_dates = ['19/01/2023', '19/02/2023', '19/05/2023']\n",
    "withdrawl_dates = ['19/04/2023', '19/07/2023', '19/09/2023']\n",
    "injectiontion_withdrawl_vol = 1000000\n",
    "injectiontion_cost = 0.01 # per MMBtu; effective cost per injection/withdrawl = $10000\n",
    "storage_cost_fixed_pm = 100000\n",
    "max_volume = 3000000 #3 mil\n",
    "contract_details = get_contract_value(injection_dates = injection_dates, injection_prices=[2, 2,2], withdrawl_dates= withdrawl_dates, withdrawl_prices= [3,3,3], max_volume= 3000000,injection_withdrawl_cost = 0.01, injection_withdrawl_vol= injectiontion_withdrawl_vol,  storage_cost_fixed_pm = storage_cost_fixed_pm)\n",
    "contract_details['value']"
   ]
  },
  {
   "cell_type": "code",
   "execution_count": 28,
   "metadata": {},
   "outputs": [
    {
     "data": {
      "text/plain": [
       "2170000.0"
      ]
     },
     "execution_count": 28,
     "metadata": {},
     "output_type": "execute_result"
    }
   ],
   "source": [
    "# case 1: no variable storage costs, only fixed per month storage costs.\n",
    "injection_dates = ['19/01/2023', '19/02/2023', '19/05/2023']\n",
    "withdrawl_dates = ['19/04/2023', '19/07/2023', '19/09/2023']\n",
    "injectiontion_withdrawl_vol = 1000000\n",
    "injectiontion_cost = 0.01 # per MMBtu; effective cost per injection/withdrawl = $10000\n",
    "storage_cost_fixed_pm = 100000\n",
    "max_volume = 3000000 #3 mil\n",
    "contract_details = get_contract_value(injection_dates = injection_dates, injection_prices=[2, 2,2], withdrawl_dates= withdrawl_dates, withdrawl_prices= [3,3,3], max_volume= 3000000,injection_withdrawl_cost = 0.01, injection_withdrawl_vol= injectiontion_withdrawl_vol,  storage_cost_fixed_pm = storage_cost_fixed_pm, storage_cost_variable_pm= 0)\n",
    "contract_details['value']"
   ]
  },
  {
   "cell_type": "code",
   "execution_count": 27,
   "metadata": {},
   "outputs": [
    {
     "data": {
      "text/plain": [
       "{'value': 2850000.0,\n",
       " 'expected_sale_cf': array([1000000, 1000000, 1000000]),\n",
       " 'months': Index([3.0, 5.0, 4.0], dtype='float64'),\n",
       " 'expected_injection_withdrawl_costs': 10000.0,\n",
       " 'expected_storage_costs': Index([30000.0, 50000.0, 40000.0], dtype='float64')}"
      ]
     },
     "execution_count": 27,
     "metadata": {},
     "output_type": "execute_result"
    }
   ],
   "source": [
    "## variable cost\n",
    "injection_dates = ['19/01/2023', '19/02/2023', '19/05/2023']\n",
    "withdrawl_dates = ['19/04/2023', '19/07/2023', '19/09/2023']\n",
    "injectiontion_withdrawl_vol = 1000000\n",
    "injectiontion_cost = 0.01 # per MMBtu; effective cost per injection/withdrawl = $10000\n",
    "storage_cost_variable_pm= 0.01 ## charge of 0.01 per MMBtu stored per month \n",
    "max_volume = 3000000 #3 mil\n",
    "contract_details = get_contract_value(injection_dates = injection_dates, injection_prices=[2, 2,2], withdrawl_dates= withdrawl_dates, withdrawl_prices= [3,3,3], max_volume= 3000000,injection_withdrawl_cost = 0.01, injection_withdrawl_vol= injectiontion_withdrawl_vol,  storage_cost_fixed_pm = 0, storage_cost_variable_pm= storage_cost_variable_pm)\n",
    "contract_details"
   ]
  },
  {
   "cell_type": "code",
   "execution_count": null,
   "metadata": {},
   "outputs": [],
   "source": []
  }
 ],
 "metadata": {
  "kernelspec": {
   "display_name": ".venv",
   "language": "python",
   "name": "python3"
  },
  "language_info": {
   "codemirror_mode": {
    "name": "ipython",
    "version": 3
   },
   "file_extension": ".py",
   "mimetype": "text/x-python",
   "name": "python",
   "nbconvert_exporter": "python",
   "pygments_lexer": "ipython3",
   "version": "3.9.2"
  },
  "orig_nbformat": 4
 },
 "nbformat": 4,
 "nbformat_minor": 2
}
